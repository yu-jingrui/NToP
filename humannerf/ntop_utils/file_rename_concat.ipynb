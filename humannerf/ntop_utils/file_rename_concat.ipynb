{
 "cells": [
  {
   "cell_type": "markdown",
   "id": "ddaa6d52",
   "metadata": {},
   "source": [
    "# 1. Concatenate everything to a single folder"
   ]
  },
  {
   "cell_type": "markdown",
   "id": "3892a8ee",
   "metadata": {},
   "source": [
    "## 1.1. Human3.6M"
   ]
  },
  {
   "cell_type": "code",
   "execution_count": null,
   "id": "c378ef91",
   "metadata": {},
   "outputs": [],
   "source": [
    "# parse files into above format\n",
    "dataset_idx = 1\n",
    "ntop_root = Path('/path/to/NToP/datasets/')\n",
    "subjects = ('S1', 'S5', 'S6', 'S7', 'S8', 'S9', 'S11')\n",
    "actions = sorted(os.listdir(Path(ntop_root, 'render', subjects[0])))\n",
    "\n",
    "print(actions)"
   ]
  },
  {
   "cell_type": "code",
   "execution_count": null,
   "id": "f02e08bc",
   "metadata": {},
   "outputs": [],
   "source": [
    "h36m_actions_dict = {ac: f'{i+1:03d}' for i, ac in enumerate(actions)}"
   ]
  },
  {
   "cell_type": "code",
   "execution_count": null,
   "id": "527aa862",
   "metadata": {},
   "outputs": [],
   "source": [
    "print(h36m_actions_dict)"
   ]
  },
  {
   "cell_type": "code",
   "execution_count": null,
   "id": "7d92e11e",
   "metadata": {},
   "outputs": [],
   "source": [
    "ntop_target = Path(ntop_root, 'concat')\n",
    "if not os.path.exists(ntop_target):\n",
    "    os.mkdir(ntop_target)"
   ]
  },
  {
   "cell_type": "code",
   "execution_count": null,
   "id": "171aceaa",
   "metadata": {},
   "outputs": [],
   "source": [
    "for sub in subjects:\n",
    "    for ac_idx, ac in enumerate(actions):\n",
    "        frames = sorted(os.listdir(Path(ntop_root, 'render', sub, ac)))\n",
    "        \n",
    "        target_sub_dir = Path(ntop_target, sub)\n",
    "        if not os.path.exists(target_sub_dir):\n",
    "            os.mkdir(target_sub_dir)\n",
    "        #target_dir = Path(target_sub_dir, ac)\n",
    "        #if not os.path.exists(target_dir):\n",
    "        #    os.mkdir(target_dir)\n",
    "        \n",
    "        for fr in frames:\n",
    "            hrs = sorted(os.listdir(Path(ntop_root, 'render', sub, ac, fr)))\n",
    "            for hr in hrs:\n",
    "                h = float(hr[1:4])\n",
    "                h = f'{h:.1f}'\n",
    "                h = h[0] + h[-1]\n",
    "                r = float(hr[5:])\n",
    "                r = f'{r:.1f}'\n",
    "                r = r[0] + r[-1]\n",
    "                for i in range(9):\n",
    "                    src_f = Path(ntop_root, 'render', sub, ac, fr, hr, f'{i:06d}.png')\n",
    "                    dst_f = Path(target_sub_dir, f'{dataset_idx:03d}{int(sub[1:]):03d}{ac_idx+1:03d}{fr.lstrip(\"topview_\")}{h}{r}{i}.png')\n",
    "                    shutil.copy(src_f, dst_f)"
   ]
  },
  {
   "cell_type": "markdown",
   "id": "14eb7ed5",
   "metadata": {},
   "source": [
    "### 1.1.1 Rename the annotations according to the above format"
   ]
  },
  {
   "cell_type": "code",
   "execution_count": null,
   "id": "cf08bde8",
   "metadata": {},
   "outputs": [],
   "source": [
    "ntop_anno_src = Path(ntop_root, 'annos')\n",
    "\n",
    "ntop_anno_dst = Path(ntop_root, 'concat', 'annos')\n",
    "if not os.path.exists(ntop_anno_dst):\n",
    "    os.mkdir(ntop_anno_dst)\n",
    "    \n",
    "annos = glob.glob('/path/to/NTOP_h36m/annos/*.json')\n",
    "annos = sorted(annos)"
   ]
  },
  {
   "cell_type": "code",
   "execution_count": null,
   "id": "4fe283da",
   "metadata": {},
   "outputs": [],
   "source": [
    "ac_id_dict = {ac:idx+1 for idx, ac in enumerate(actions)}"
   ]
  },
  {
   "cell_type": "code",
   "execution_count": null,
   "id": "691ee07f",
   "metadata": {},
   "outputs": [],
   "source": [
    "for a in annos:\n",
    "    filename = a.split('/')[-1]\n",
    "    (sub, ac, _) = filename.split('_')\n",
    "    fn_concat = f'{dataset_idx:03d}{int(sub[1:]):03d}{ac_id_dict[ac]:03d}xxxxxx1210i.json'\n",
    "    shutil.copy(a, Path(ntop_anno_dst, fn_concat))"
   ]
  },
  {
   "cell_type": "markdown",
   "id": "ab59cd63",
   "metadata": {},
   "source": [
    "## 1.2. Genebody"
   ]
  },
  {
   "cell_type": "code",
   "execution_count": null,
   "id": "ab672759",
   "metadata": {},
   "outputs": [],
   "source": [
    "dataset_idx = 2\n",
    "ntop_src = Path('/path/to/NToP/humannerf/experiments/human_nerf/genebody/')\n",
    "subjects = sorted(os.listdir(ntop_src))[1:]\n",
    "hrs = sorted(os.listdir(Path(ntop_src, subjects[0], 'single_gpu/latest/topview_000000')))\n",
    "print(hrs)"
   ]
  },
  {
   "cell_type": "code",
   "execution_count": null,
   "id": "8435ab5f",
   "metadata": {},
   "outputs": [],
   "source": [
    "ntop_src = Path('/path/to/NTOP/genebody/concat')\n",
    "subjects = sorted(os.listdir(ntop_src))\n",
    "genebody_subjects_dict = {sub: f'{idx+1:03d}' for idx, sub in enumerate(subjects)}\n",
    "print(genebody_subjects_dict)"
   ]
  },
  {
   "cell_type": "code",
   "execution_count": null,
   "id": "b68274cd",
   "metadata": {},
   "outputs": [],
   "source": [
    "ntop_dst = Path('/path/to/NTOP/genebody/concat/')\n",
    "if not os.path.exists(ntop_dst):\n",
    "    os.makedirs(ntop_dst)"
   ]
  },
  {
   "cell_type": "code",
   "execution_count": null,
   "id": "aadb484f",
   "metadata": {
    "scrolled": true
   },
   "outputs": [],
   "source": [
    "for sub_idx, sub in enumerate(subjects):\n",
    "    frames = sorted(os.listdir(Path(ntop_src, sub, 'single_gpu/latest')))\n",
    "    \n",
    "    rgb_dst_sub_dir = Path(ntop_dst, sub, 'rgb')\n",
    "    if not os.path.exists(rgb_dst_sub_dir):\n",
    "        os.makedirs(rgb_dst_sub_dir)\n",
    "    alpha_dst_sub_dir = Path(ntop_dst, sub, 'alpha')\n",
    "    if not os.path.exists(alpha_dst_sub_dir):\n",
    "        os.makedirs(alpha_dst_sub_dir)    \n",
    "    \n",
    "    hr = hrs[0]\n",
    "    h = hr[1] + hr[3]\n",
    "    r = hr[5] + hr[7]\n",
    "\n",
    "    print(f\"Concatenating sub {sub_idx+1:03d} {sub} {hr}\")\n",
    "    for fr in frames:\n",
    "        if not 'topview' in fr:\n",
    "            continue\n",
    "        for i in range(9):\n",
    "            rgb_src_f = Path(ntop_src, sub, 'single_gpu/latest', fr, hr, 'rgb', f'{i:06d}.png')\n",
    "            rgb_dst_f = Path(rgb_dst_sub_dir, f'{dataset_idx:03d}{sub_idx+1:03d}000{fr.lstrip(\"topview_\")}{h}{r}{i}.png')\n",
    "            shutil.copy(rgb_src_f, rgb_dst_f)\n",
    "            alpha_src_f = Path(ntop_src, sub, 'single_gpu/latest', fr, hr, 'alpha', f'{i:06d}.png')\n",
    "            alpha_dst_f = Path(alpha_dst_sub_dir, f'{dataset_idx:03d}{sub_idx+1:03d}000{fr.lstrip(\"topview_\")}{h}{r}{i}.png')\n",
    "            shutil.copy(alpha_src_f, alpha_dst_f)"
   ]
  },
  {
   "cell_type": "markdown",
   "id": "aa169393",
   "metadata": {},
   "source": [
    "## 1.3. ZJU_MOCAP"
   ]
  },
  {
   "cell_type": "code",
   "execution_count": null,
   "id": "98fcc3d6",
   "metadata": {},
   "outputs": [],
   "source": [
    "dataset_idx = 3\n",
    "ntop_src = Path('/path/to/NTOP/zjumocap')\n",
    "subjects = sorted(os.listdir(Path(ntop_src, 'render')))[:1]\n",
    "hrs = sorted(os.listdir(Path(ntop_src, 'render', subjects[0], 'topview_000000')))\n",
    "print(hrs)"
   ]
  },
  {
   "cell_type": "code",
   "execution_count": null,
   "id": "3ee04a9b",
   "metadata": {},
   "outputs": [],
   "source": [
    "ntop_dst = Path('/path/to/NTOP/zjumocap/concat/')\n",
    "if not os.path.exists(ntop_dst):\n",
    "    os.makedirs(ntop_dst)"
   ]
  },
  {
   "cell_type": "code",
   "execution_count": null,
   "id": "9d264b31",
   "metadata": {},
   "outputs": [],
   "source": [
    "for sub in subjects:\n",
    "    frames = sorted(os.listdir(Path(ntop_src, 'render', sub)))\n",
    "    \n",
    "    rgb_dst_sub_dir = Path(ntop_dst, sub, 'rgb')\n",
    "    if not os.path.exists(rgb_dst_sub_dir):\n",
    "        os.makedirs(rgb_dst_sub_dir)\n",
    "    alpha_dst_sub_dir = Path(ntop_dst, sub, 'alpha')\n",
    "    if not os.path.exists(alpha_dst_sub_dir):\n",
    "        os.makedirs(alpha_dst_sub_dir)    \n",
    "    \n",
    "    for hr in hrs:\n",
    "        h = hr[1] + hr[3]\n",
    "        r = hr[5] + hr[7]\n",
    "        \n",
    "        print(f\"Concatenating sub {sub} {hr}\")\n",
    "        for fr in frames:\n",
    "            if not 'topview' in fr:\n",
    "                continue\n",
    "            for i in range(9):\n",
    "                rgb_src_f = Path(ntop_src, 'render', sub, fr, hr, 'rgb', f'{i:06d}.png')\n",
    "                rgb_dst_f = Path(rgb_dst_sub_dir, f'{dataset_idx:03d}{sub[1:]}000{fr.lstrip(\"topview_\")}{h}{r}{i}.png')\n",
    "                shutil.copy(rgb_src_f, rgb_dst_f)\n",
    "                alpha_src_f = Path(ntop_src, 'render', sub, fr, hr, 'alpha', f'{i:06d}.png')\n",
    "                alpha_dst_f = Path(alpha_dst_sub_dir, f'{dataset_idx:03d}{sub[1:]}000{fr.lstrip(\"topview_\")}{h}{r}{i}.png')\n",
    "                shutil.copy(alpha_src_f, alpha_dst_f)"
   ]
  },
  {
   "cell_type": "markdown",
   "id": "9910177e",
   "metadata": {},
   "source": [
    "# 2. Augment with background image"
   ]
  },
  {
   "cell_type": "code",
   "execution_count": null,
   "id": "cc106bfd",
   "metadata": {},
   "outputs": [],
   "source": [
    "import os\n",
    "from pathlib import Path\n",
    "import cv2\n",
    "import random\n",
    "from tqdm import tqdm\n",
    "\n",
    "ntop_base = Path('/path/to/NTOP/dataset')\n",
    "subsets = ['genebody', 'human36m', 'zjumocap']"
   ]
  },
  {
   "cell_type": "code",
   "execution_count": null,
   "id": "0967a14d",
   "metadata": {},
   "outputs": [],
   "source": [
    "bg_path = Path('/path/to/dataset/for/background/augmentation')\n",
    "bg_images = os.listdir(bg_path)\n",
    "\n",
    "def augment_with_random_background(render_f, alpha_f, aug_f):\n",
    "    bg_f = Path(bg_path, random.choice(bg_images))\n",
    "    \n",
    "    im = cv2.imread(render_f.as_posix(), cv2.IMREAD_COLOR)\n",
    "    al = cv2.imread(alpha_f.as_posix(), cv2.IMREAD_GRAYSCALE)\n",
    "    bg = cv2.imread(bg_f.as_posix(), cv2.IMREAD_COLOR)\n",
    "    \n",
    "    while bg is None:\n",
    "        bg_f = Path(bg_path, random.choice(bg_images))\n",
    "        bg = cv2.imread(bg_f.as_posix(), cv2.IMREAD_COLOR)\n",
    "\n",
    "    bg = cv2.resize(bg, (im.shape[1], im.shape[0]))\n",
    "    al = cv2.cvtColor(al, cv2.COLOR_GRAY2BGR)\n",
    "    person_with_alpha = cv2.multiply(im.astype(float), al.astype(float) / 255)\n",
    "    bg_w_al = cv2.multiply(bg.astype(float), 1.0 - (al.astype(float) / 255))\n",
    "    result = cv2.add(person_with_alpha, bg_w_al)\n",
    "\n",
    "    cv2.imwrite(aug_f.as_posix(), result)"
   ]
  },
  {
   "cell_type": "code",
   "execution_count": null,
   "id": "abe2c490",
   "metadata": {},
   "outputs": [],
   "source": [
    "subsets = ['human36m']\n",
    "aug_path = Path(ntop_base, 'ntop', 'images_w_bg')\n",
    "for ss in subsets:\n",
    "    subjects_path = Path(ntop_base, ss, 'concat')\n",
    "    subjects = sorted(os.listdir(subjects_path))\n",
    "    \n",
    "    for subj in subjects[1:2]:\n",
    "        subj_path = Path(subjects_path, subj)\n",
    "\n",
    "        image_path = Path(subj_path, 'rgb')\n",
    "        alpha_path = Path(subj_path, 'alpha')\n",
    "        image_files = sorted(os.listdir(image_path))\n",
    "\n",
    "        print(f'Augmenting subject: {subj}')\n",
    "        for image in tqdm(image_files):\n",
    "            im_f = Path(image_path, image)\n",
    "            al_f = Path(alpha_path, image)\n",
    "            aug_f = Path(aug_path, image)\n",
    "            augment_with_random_background(im_f, al_f, aug_f)"
   ]
  },
  {
   "cell_type": "code",
   "execution_count": null,
   "id": "0cfadb2a",
   "metadata": {},
   "outputs": [],
   "source": [
    "#from multiprocessing import Pool\n",
    "from tqdm.contrib.concurrent import process_map\n",
    "\n",
    "def aug_single_image(image_filename):\n",
    "    im_f = Path(image_path, image_filename)\n",
    "    al_f = Path(alpha_path, image_filename)\n",
    "    aug_f = Path(aug_path, image_filename)\n",
    "    augment_with_random_background(im_f, al_f, aug_f)\n",
    "\n",
    "\n",
    "subsets = ['human36m']\n",
    "aug_path = Path(ntop_base, 'ntop', 'images_w_bg')\n",
    "for ss in subsets:\n",
    "    subjects_path = Path(ntop_base, ss, 'concat')\n",
    "    subjects = sorted(os.listdir(subjects_path))\n",
    "    \n",
    "    for subj in subjects[:1]:\n",
    "        subj_path = Path(subjects_path, subj)\n",
    "\n",
    "        image_path = Path(subj_path, 'rgb')\n",
    "        alpha_path = Path(subj_path, 'alpha')\n",
    "        image_files = sorted(os.listdir(image_path))\n",
    "\n",
    "        print(f'Augmenting subject: {subj}')\n",
    "        #with Pool(processes=4) as P:\n",
    "        #    P.map(aug_single_image, image_files)\n",
    "        process_map(aug_single_image, image_files, max_workers=16)"
   ]
  }
 ],
 "metadata": {
  "kernelspec": {
   "display_name": "Python 3 (ipykernel)",
   "language": "python",
   "name": "python3"
  },
  "language_info": {
   "codemirror_mode": {
    "name": "ipython",
    "version": 3
   },
   "file_extension": ".py",
   "mimetype": "text/x-python",
   "name": "python",
   "nbconvert_exporter": "python",
   "pygments_lexer": "ipython3",
   "version": "3.7.16"
  }
 },
 "nbformat": 4,
 "nbformat_minor": 5
}
