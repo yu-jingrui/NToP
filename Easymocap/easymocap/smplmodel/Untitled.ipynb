{
 "cells": [
  {
   "cell_type": "code",
   "execution_count": 2,
   "id": "55b47bd8",
   "metadata": {},
   "outputs": [],
   "source": []
  },
  {
   "cell_type": "code",
   "execution_count": 5,
   "id": "f734a7ff",
   "metadata": {},
   "outputs": [],
   "source": [
    "import torch\n",
    "import torch.nn as nn\n",
    "from lbs import batch_rodrigues\n",
    "from lbs import lbs, dqs\n",
    "import os.path as osp\n",
    "import pickle\n",
    "import numpy as np\n",
    "import os"
   ]
  },
  {
   "cell_type": "code",
   "execution_count": 19,
   "id": "4080fdae",
   "metadata": {},
   "outputs": [],
   "source": [
    "data_path = '/mnt/data/ndip/Human36m_S9/Posing_easymocap/'\n",
    "params_dir = os.path.join(data_path, 'params')\n",
    "with open(os.path.join(params_dir, '0.npy'), 'rb') as f:\n",
    "    data = np.load(f, allow_pickle= True).item()"
   ]
  },
  {
   "cell_type": "code",
   "execution_count": 20,
   "id": "8223846f",
   "metadata": {},
   "outputs": [
    {
     "data": {
      "text/plain": [
       "{'poses': array([[ 0.00000000e+00,  0.00000000e+00,  0.00000000e+00,\n",
       "         -1.56954378e-01,  1.95501950e-02,  1.16910689e-01,\n",
       "         -9.32800546e-02, -9.33344960e-02, -1.92864507e-01,\n",
       "         -3.71444003e-06,  1.25699553e-05,  3.71252681e-05,\n",
       "         -1.42265076e-03,  1.10108145e-01, -1.77059241e-03,\n",
       "         -2.28520818e-02, -1.54943660e-01,  1.58683166e-01,\n",
       "         -1.40986103e-05,  1.51030963e-05, -5.31250553e-05,\n",
       "         -6.66320175e-02,  1.71164479e-02,  4.19289246e-02,\n",
       "         -1.02016121e-01, -4.29956168e-02, -7.92306736e-02,\n",
       "         -5.65613583e-02,  1.31671713e-05,  1.45133628e-04,\n",
       "         -2.69350749e-05, -1.09551220e-05,  4.59156217e-05,\n",
       "          6.68014945e-06, -3.90044443e-06, -2.20697766e-05,\n",
       "          1.06686324e-01,  4.03159671e-02, -9.96485576e-02,\n",
       "         -2.63814218e-05, -2.54423758e-05, -2.90586195e-06,\n",
       "          3.82871222e-05, -1.20038430e-05, -1.34114998e-06,\n",
       "         -2.53417999e-01, -5.61338291e-02,  7.52062649e-02,\n",
       "          1.48622971e-02, -1.83936566e-01, -5.24360389e-02,\n",
       "          3.50791961e-02,  1.02164730e-01,  1.53456619e-02,\n",
       "          3.78986518e-03, -8.74203369e-02,  1.31818041e-01,\n",
       "         -1.78106572e-03,  2.74156593e-02, -5.83772473e-02,\n",
       "         -1.39600306e-05, -3.94033341e-05,  2.58663158e-06,\n",
       "          3.79153389e-05, -1.13828082e-05, -8.58885687e-06,\n",
       "          8.47134943e-05,  8.25542520e-05,  3.93642331e-05,\n",
       "          6.11582163e-06, -1.82732620e-05, -3.20322833e-05]], dtype=float32),\n",
       " 'Rh': array([[1.668163  , 0.01498166, 0.01842468]], dtype=float32),\n",
       " 'Th': array([[-0.01637027,  0.09711929,  1.2124217 ]], dtype=float32),\n",
       " 'shapes': array([[ 1.3092145 ,  0.05726828, -0.88628983,  1.7961218 ,  3.1714919 ,\n",
       "          2.5631676 ,  0.02022118,  1.7220823 ,  3.1215103 , -0.3168318 ]],\n",
       "       dtype=float32)}"
      ]
     },
     "execution_count": 20,
     "metadata": {},
     "output_type": "execute_result"
    }
   ],
   "source": [
    "data"
   ]
  },
  {
   "cell_type": "code",
   "execution_count": null,
   "id": "8a256fa6",
   "metadata": {},
   "outputs": [],
   "source": []
  }
 ],
 "metadata": {
  "kernelspec": {
   "display_name": "Python 3 (ipykernel)",
   "language": "python",
   "name": "python3"
  },
  "language_info": {
   "codemirror_mode": {
    "name": "ipython",
    "version": 3
   },
   "file_extension": ".py",
   "mimetype": "text/x-python",
   "name": "python",
   "nbconvert_exporter": "python",
   "pygments_lexer": "ipython3",
   "version": "3.7.16"
  }
 },
 "nbformat": 4,
 "nbformat_minor": 5
}
